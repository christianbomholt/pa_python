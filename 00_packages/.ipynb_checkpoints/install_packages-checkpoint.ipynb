{
 "cells": [
  {
   "cell_type": "markdown",
   "metadata": {
    "slideshow": {
     "slide_type": "slide"
    }
   },
   "source": [
    "<img src=\"https://www.jobsexpo.ie/wp-content/uploads/2018/09/logo-1030x658.jpg\" width = 600>\n",
    "\n",
    "## Installation af pakker\n",
    "\n",
    "- Lidt om python\n",
    "- How to run python\n",
    "- How to install packages\n",
    "- How to use packages"
   ]
  },
  {
   "cell_type": "markdown",
   "metadata": {
    "slideshow": {
     "slide_type": "slide"
    }
   },
   "source": [
    "## The basics\n",
    "\n",
    "Python er et fortolket sprog, hvilket betyder at de kommandoer vi skriver løber gennem en tolk (python.exe) inden det rammer CPU'en.\n",
    "\n",
    "<img src=\"https://encrypted-tbn0.gstatic.com/images?q=tbn:ANd9GcQiR8qst_TOqCiSYsDNhX0PuL9xoKt-Pe8rGRrJ-s9_Tn4YDFi3\" width=\"600\">\n",
    "\n",
    "Modsat har vi sprog som anvender en kompilerenede implementation. Dette betyder løst sagt at man laver et helt program som oversættes som samlet pakke inden det kan give resultater."
   ]
  },
  {
   "cell_type": "markdown",
   "metadata": {
    "slideshow": {
     "slide_type": "slide"
    }
   },
   "source": [
    "## Source -> Intepreter -> Output\n",
    "\n",
    "Vi eksekvere source kode og python returnerer output"
   ]
  },
  {
   "cell_type": "markdown",
   "metadata": {},
   "source": [
    "```\n",
    ">> 2+2\n",
    "4\n",
    "```"
   ]
  },
  {
   "cell_type": "markdown",
   "metadata": {
    "slideshow": {
     "slide_type": "slide"
    }
   },
   "source": [
    "## Overordnet set er der 3 måder at bruge python på\n",
    "\n",
    "1. Juptyter notebook\n",
    "2. Commandline\n",
    "3. Runscripts"
   ]
  },
  {
   "cell_type": "markdown",
   "metadata": {
    "slideshow": {
     "slide_type": "slide"
    }
   },
   "source": [
    "### 1. Jupyter notebooks har en python session kørende i baggrunden\n",
    "\n",
    "<img src=\"https://www.dataquest.io/wp-content/uploads/2019/01/1-LPnY8nOLg4S6_TG0DEXwsg-1.png\" width = \"600\">\n",
    "\n",
    "- startes ved at trykke \"new\" og vælge \"python 3\""
   ]
  },
  {
   "cell_type": "code",
   "execution_count": 22,
   "metadata": {
    "slideshow": {
     "slide_type": "fragment"
    }
   },
   "outputs": [
    {
     "data": {
      "text/plain": [
       "5"
      ]
     },
     "execution_count": 22,
     "metadata": {},
     "output_type": "execute_result"
    }
   ],
   "source": [
    "# Comment\n",
    "2+3"
   ]
  },
  {
   "cell_type": "markdown",
   "metadata": {},
   "source": [
    "Bemærk tallet ud for cellen"
   ]
  },
  {
   "cell_type": "markdown",
   "metadata": {
    "slideshow": {
     "slide_type": "slide"
    }
   },
   "source": [
    "## Python sessionen husker definerede variable\n",
    "\n",
    "\n",
    "<img src=\"http://denstoredanske.dk/@api/deki/files/23683/=309448252.801.png\" width=\"400\">\n"
   ]
  },
  {
   "cell_type": "code",
   "execution_count": 18,
   "metadata": {},
   "outputs": [],
   "source": [
    "a = 3\n",
    "b = 4"
   ]
  },
  {
   "cell_type": "code",
   "execution_count": 19,
   "metadata": {},
   "outputs": [
    {
     "data": {
      "text/plain": [
       "5.0"
      ]
     },
     "execution_count": 19,
     "metadata": {},
     "output_type": "execute_result"
    }
   ],
   "source": [
    "c_sq = a**2 + b**2\n",
    "c = c_sq**0.5\n",
    "c"
   ]
  },
  {
   "cell_type": "markdown",
   "metadata": {
    "slideshow": {
     "slide_type": "slide"
    }
   },
   "source": [
    "## Mini opgave\n",
    "\n",
    "- Åben en ny python notebook via jupyter notebook\n",
    "- Udregn værdien FV af V = USD 1000 om et år (t=1), når der anvendes månedlig tilskrivning med $8%$ i rente $r$.\n",
    "- Prøv at brug variable!\n",
    "\n",
    "$$\n",
    "  FV = V \\cdot \\left(1 + \\frac{r}{12}\\right)^ {12t}\n",
    "$$\n",
    "\n",
    "<img src = \"https://upload.wikimedia.org/wikipedia/commons/thumb/7/7f/Compound_Interest_with_Varying_Frequencies.svg/2000px-Compound_Interest_with_Varying_Frequencies.svg.png\" width=\"600\">"
   ]
  },
  {
   "cell_type": "markdown",
   "metadata": {
    "slideshow": {
     "slide_type": "slide"
    }
   },
   "source": [
    "## 2. Demo af command-line REPL\n",
    "\n",
    "Man kan også vælge at bruge kommando linjen til at skrive python.\n",
    "\n",
    "For at prøve dette skal I åbne \"Anaconda Prompt\"\n",
    "\n",
    "<img src=\"https://devblogs.microsoft.com/wp-content/uploads/sites/12/2019/02/2_RunInTerminal.png\" >"
   ]
  },
  {
   "cell_type": "markdown",
   "metadata": {
    "slideshow": {
     "slide_type": "slide"
    }
   },
   "source": [
    "## 3. Demo af helt run script\n",
    "\n",
    "De guides der florerer på nettet vedr. python vil ofte anvende et run script.\n",
    "\n",
    "Det er dog mere en software udvikler tilgang til sproget.\n",
    "\n",
    "<img src=\"http://helpful-nerd.com/wp-content/uploads/2018/02/AtomPython.png\" width=\"600\">"
   ]
  },
  {
   "cell_type": "markdown",
   "metadata": {
    "slideshow": {
     "slide_type": "slide"
    }
   },
   "source": [
    "## Undgå at gen-opfinde hjulet\n",
    "\n",
    "Det kan være tidskrævende at kreere source kode til at løse et problem. Anvende derfor andres hårde arbejde så ofte som muligt.\n",
    "\n",
    "<img src=\"http://chris35wills.github.io/courses/pydata_stack.png\" width=\"800\">"
   ]
  },
  {
   "cell_type": "markdown",
   "metadata": {
    "slideshow": {
     "slide_type": "slide"
    }
   },
   "source": [
    "## Installation af pakker\n",
    "\n",
    "gøres med brug af et kommando-linje værktøj `pip`\n",
    "\n",
    "`pip` er Python's pakkemanager som henter pakker fra `PyPi` python package index.\n",
    "\n",
    "`pip` er et recursivt acronym som står for \"Pip Installs Packages\" \n",
    "\n",
    "<img src = \"https://zdnet3.cbsistatic.com/hub/i/2018/10/26/2b3ac432-8dc9-4617-8261-050d69007583/86cd1ec8537412a5744be784820619f2/pypi.png\">\n"
   ]
  },
  {
   "cell_type": "markdown",
   "metadata": {
    "slideshow": {
     "slide_type": "slide"
    }
   },
   "source": [
    "### Hvad er en pakke?\n",
    "\n",
    "En pakke indeholder alle de filer, du har brug for til et modul.\n",
    "\n",
    "<img src =\"https://cdn-images-1.medium.com/max/1200/1*tRqTb0JnvJVMI1-wNjV4JA.png\" >\n",
    "\n",
    "Moduler er Python kodebiblioteker, du kan medtage i dit projekt."
   ]
  },
  {
   "cell_type": "markdown",
   "metadata": {
    "slideshow": {
     "slide_type": "slide"
    }
   },
   "source": [
    "## Hvordan bruger vi pip til at hente en pakke\n",
    "\n",
    "Syntaxen er\n",
    "\n",
    "```\n",
    "pip install <pakkenavn>\n",
    "```\n",
    "\n",
    "I jupyter er vi nød til at skrive `!pip` for at koden opfanges af kommandolinjen og ikke python "
   ]
  },
  {
   "cell_type": "code",
   "execution_count": 4,
   "metadata": {},
   "outputs": [
    {
     "name": "stdout",
     "output_type": "stream",
     "text": [
      "pip 9.0.1 from /home/christian/anaconda3/lib/python3.6/site-packages (python 3.6)\r\n"
     ]
    }
   ],
   "source": [
    "!pip --version"
   ]
  },
  {
   "cell_type": "code",
   "execution_count": 24,
   "metadata": {},
   "outputs": [
    {
     "name": "stdout",
     "output_type": "stream",
     "text": [
      "Collecting seaborn\n",
      "  Downloading https://files.pythonhosted.org/packages/a8/76/220ba4420459d9c4c9c9587c6ce607bf56c25b3d3d2de62056efe482dadc/seaborn-0.9.0-py3-none-any.whl (208kB)\n",
      "\u001b[K    100% |████████████████████████████████| 215kB 155kB/s ta 0:00:01\n",
      "\u001b[?25hCollecting pandas>=0.15.2 (from seaborn)\n",
      "  Downloading https://files.pythonhosted.org/packages/19/74/e50234bc82c553fecdbd566d8650801e3fe2d6d8c8d940638e3d8a7c5522/pandas-0.24.2-cp36-cp36m-manylinux1_x86_64.whl (10.1MB)\n",
      "\u001b[K    100% |████████████████████████████████| 10.1MB 105kB/s ta 0:00:01\n",
      "\u001b[?25hCollecting matplotlib>=1.4.3 (from seaborn)\n",
      "  Downloading https://files.pythonhosted.org/packages/da/83/d989ee20c78117c737ab40e0318ea221f1aed4e3f5a40b4f93541b369b93/matplotlib-3.1.0-cp36-cp36m-manylinux1_x86_64.whl (13.1MB)\n",
      "\u001b[K    100% |████████████████████████████████| 13.1MB 80kB/s eta 0:00:01\n",
      "\u001b[?25hCollecting numpy>=1.9.3 (from seaborn)\n",
      "  Downloading https://files.pythonhosted.org/packages/87/2d/e4656149cbadd3a8a0369fcd1a9c7d61cc7b87b3903b85389c70c989a696/numpy-1.16.4-cp36-cp36m-manylinux1_x86_64.whl (17.3MB)\n",
      "\u001b[K    100% |████████████████████████████████| 17.3MB 77kB/s eta 0:00:011\n",
      "\u001b[?25hCollecting scipy>=0.14.0 (from seaborn)\n",
      "  Downloading https://files.pythonhosted.org/packages/72/4c/5f81e7264b0a7a8bd570810f48cd346ba36faedbd2ba255c873ad556de76/scipy-1.3.0-cp36-cp36m-manylinux1_x86_64.whl (25.2MB)\n",
      "\u001b[K    100% |████████████████████████████████| 25.2MB 54kB/s eta 0:00:011\n",
      "\u001b[?25hCollecting pytz>=2011k (from pandas>=0.15.2->seaborn)\n",
      "  Downloading https://files.pythonhosted.org/packages/3d/73/fe30c2daaaa0713420d0382b16fbb761409f532c56bdcc514bf7b6262bb6/pytz-2019.1-py2.py3-none-any.whl (510kB)\n",
      "\u001b[K    100% |████████████████████████████████| 512kB 173kB/s ta 0:00:01\n",
      "\u001b[?25hCollecting python-dateutil>=2.5.0 (from pandas>=0.15.2->seaborn)\n",
      "  Downloading https://files.pythonhosted.org/packages/41/17/c62faccbfbd163c7f57f3844689e3a78bae1f403648a6afb1d0866d87fbb/python_dateutil-2.8.0-py2.py3-none-any.whl (226kB)\n",
      "\u001b[K    100% |████████████████████████████████| 235kB 201kB/s ta 0:00:01\n",
      "\u001b[?25hRequirement already up-to-date: cycler>=0.10 in /home/christian/anaconda3/lib/python3.6/site-packages (from matplotlib>=1.4.3->seaborn)\n",
      "Collecting kiwisolver>=1.0.1 (from matplotlib>=1.4.3->seaborn)\n",
      "  Downloading https://files.pythonhosted.org/packages/f8/a1/5742b56282449b1c0968197f63eae486eca2c35dcd334bab75ad524e0de1/kiwisolver-1.1.0-cp36-cp36m-manylinux1_x86_64.whl (90kB)\n",
      "\u001b[K    100% |████████████████████████████████| 92kB 286kB/s ta 0:00:01\n",
      "\u001b[?25hCollecting pyparsing!=2.0.4,!=2.1.2,!=2.1.6,>=2.0.1 (from matplotlib>=1.4.3->seaborn)\n",
      "  Downloading https://files.pythonhosted.org/packages/dd/d9/3ec19e966301a6e25769976999bd7bbe552016f0d32b577dc9d63d2e0c49/pyparsing-2.4.0-py2.py3-none-any.whl (62kB)\n",
      "\u001b[K    100% |████████████████████████████████| 71kB 230kB/s ta 0:00:01\n",
      "\u001b[?25hRequirement already up-to-date: six>=1.5 in /home/christian/anaconda3/lib/python3.6/site-packages (from python-dateutil>=2.5.0->pandas>=0.15.2->seaborn)\n",
      "Collecting setuptools (from kiwisolver>=1.0.1->matplotlib>=1.4.3->seaborn)\n",
      "  Using cached https://files.pythonhosted.org/packages/ec/51/f45cea425fd5cb0b0380f5b0f048ebc1da5b417e48d304838c02d6288a1e/setuptools-41.0.1-py2.py3-none-any.whl\n",
      "Installing collected packages: pytz, python-dateutil, numpy, pandas, setuptools, kiwisolver, pyparsing, matplotlib, scipy, seaborn\n",
      "  Found existing installation: pytz 2017.2\n",
      "    Uninstalling pytz-2017.2:\n",
      "      Successfully uninstalled pytz-2017.2\n",
      "  Found existing installation: python-dateutil 2.7.5\n",
      "    Uninstalling python-dateutil-2.7.5:\n",
      "      Successfully uninstalled python-dateutil-2.7.5\n",
      "  Found existing installation: numpy 1.16.1\n",
      "    Uninstalling numpy-1.16.1:\n",
      "      Successfully uninstalled numpy-1.16.1\n",
      "  Found existing installation: pandas 0.20.3\n",
      "    Uninstalling pandas-0.20.3:\n",
      "      Successfully uninstalled pandas-0.20.3\n",
      "  Found existing installation: setuptools 40.7.2\n",
      "    Uninstalling setuptools-40.7.2:\n",
      "      Successfully uninstalled setuptools-40.7.2\n",
      "  Found existing installation: pyparsing 2.3.1\n",
      "    Uninstalling pyparsing-2.3.1:\n",
      "      Successfully uninstalled pyparsing-2.3.1\n",
      "  Found existing installation: matplotlib 2.0.2\n",
      "    Uninstalling matplotlib-2.0.2:\n",
      "      Successfully uninstalled matplotlib-2.0.2\n",
      "  Found existing installation: scipy 0.19.1\n",
      "    Uninstalling scipy-0.19.1:\n",
      "      Successfully uninstalled scipy-0.19.1\n",
      "  Found existing installation: seaborn 0.8\n",
      "    Uninstalling seaborn-0.8:\n",
      "      Successfully uninstalled seaborn-0.8\n",
      "Successfully installed kiwisolver-1.1.0 matplotlib-3.1.0 numpy-1.16.4 pandas-0.24.2 pyparsing-2.4.0 python-dateutil-2.8.0 pytz-2019.1 scipy-1.3.0 seaborn-0.9.0 setuptools-41.0.1\n",
      "\u001b[33mYou are using pip version 9.0.1, however version 19.1.1 is available.\n",
      "You should consider upgrading via the 'pip install --upgrade pip' command.\u001b[0m\n"
     ]
    }
   ],
   "source": [
    "!pip install seaborn --upgrade"
   ]
  },
  {
   "cell_type": "markdown",
   "metadata": {
    "slideshow": {
     "slide_type": "slide"
    }
   },
   "source": [
    "## Importing packages (modules)\n"
   ]
  },
  {
   "cell_type": "code",
   "execution_count": 1,
   "metadata": {},
   "outputs": [],
   "source": [
    "# import the library\n",
    "import math"
   ]
  },
  {
   "cell_type": "code",
   "execution_count": null,
   "metadata": {},
   "outputs": [],
   "source": [
    "math.ceil(3.4)"
   ]
  },
  {
   "cell_type": "markdown",
   "metadata": {
    "slideshow": {
     "slide_type": "slide"
    }
   },
   "source": [
    "## Få listet alle funktioner i en given pakke"
   ]
  },
  {
   "cell_type": "code",
   "execution_count": 3,
   "metadata": {
    "scrolled": true
   },
   "outputs": [
    {
     "name": "stdout",
     "output_type": "stream",
     "text": [
      "['__doc__', '__file__', '__loader__', '__name__', '__package__', '__spec__', 'acos', 'acosh', 'asin', 'asinh', 'atan', 'atan2', 'atanh', 'ceil', 'copysign', 'cos', 'cosh', 'degrees', 'e', 'erf', 'erfc', 'exp', 'expm1', 'fabs', 'factorial', 'floor', 'fmod', 'frexp', 'fsum', 'gamma', 'gcd', 'hypot', 'inf', 'isclose', 'isfinite', 'isinf', 'isnan', 'ldexp', 'lgamma', 'log', 'log10', 'log1p', 'log2', 'modf', 'nan', 'pi', 'pow', 'radians', 'sin', 'sinh', 'sqrt', 'tan', 'tanh', 'tau', 'trunc']\n"
     ]
    }
   ],
   "source": [
    "print(dir(math))"
   ]
  },
  {
   "cell_type": "markdown",
   "metadata": {
    "slideshow": {
     "slide_type": "slide"
    }
   },
   "source": [
    "## Få info om specifikke funktioner i pakker"
   ]
  },
  {
   "cell_type": "code",
   "execution_count": 20,
   "metadata": {},
   "outputs": [
    {
     "name": "stdout",
     "output_type": "stream",
     "text": [
      "Help on built-in function ceil in module math:\n",
      "\n",
      "ceil(...)\n",
      "    ceil(x)\n",
      "    \n",
      "    Return the ceiling of x as an Integral.\n",
      "    This is the smallest integer >= x.\n",
      "\n"
     ]
    }
   ],
   "source": [
    "help(math.ceil)"
   ]
  },
  {
   "cell_type": "markdown",
   "metadata": {
    "slideshow": {
     "slide_type": "slide"
    }
   },
   "source": [
    "## Importér en enkelt funktion fra pakken"
   ]
  },
  {
   "cell_type": "code",
   "execution_count": 2,
   "metadata": {},
   "outputs": [
    {
     "data": {
      "text/plain": [
       "1083.2870676749587"
      ]
     },
     "execution_count": 2,
     "metadata": {},
     "output_type": "execute_result"
    }
   ],
   "source": [
    "from math import e\n",
    "\n",
    "# Continous compounding\n",
    "1000*e**0.08"
   ]
  },
  {
   "cell_type": "markdown",
   "metadata": {
    "slideshow": {
     "slide_type": "slide"
    }
   },
   "source": [
    "## Opgave\n",
    "\n",
    "Opret en jupyter notebook\n",
    "\n",
    "- Installér `pandas`,`matplotlib` og `seaborn` med `pip`\n",
    "- prøv kommandoen `pd.read_csv(\"https://github.com/christianbomholt/course_data/raw/master/subset_avocado.csv\")`\n",
    "- indlæs pakken pandas via `import pandas as pd`\n",
    "- prøv kommandoen `pd.read_csv(\"https://github.com/christianbomholt/course_data/raw/master/subset_avocado.csv\")`"
   ]
  }
 ],
 "metadata": {
  "celltoolbar": "Slideshow",
  "kernelspec": {
   "display_name": "Python 3",
   "language": "python",
   "name": "python3"
  },
  "language_info": {
   "codemirror_mode": {
    "name": "ipython",
    "version": 3
   },
   "file_extension": ".py",
   "mimetype": "text/x-python",
   "name": "python",
   "nbconvert_exporter": "python",
   "pygments_lexer": "ipython3",
   "version": "3.6.2"
  }
 },
 "nbformat": 4,
 "nbformat_minor": 2
}
