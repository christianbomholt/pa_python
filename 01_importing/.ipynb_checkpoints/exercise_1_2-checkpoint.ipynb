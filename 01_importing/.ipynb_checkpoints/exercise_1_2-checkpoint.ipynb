{
 "cells": [
  {
   "cell_type": "markdown",
   "metadata": {},
   "source": [
    "# Exercise 1.2\n",
    "\n",
    "### Diamonds data filtering \n",
    "\n",
    "PAntwerp wants you to help them find a good price estimate for a very particular batch of diamonds. The diamonds are characterized by having \n",
    "\n",
    "- Ideal cut\n",
    "- Color D\n",
    "- Clearer than VVS2 [Very Very Slight Inclusions]\n",
    "    - Hint try the command `1:10 %in% c(1,3,5)` \n",
    "- Carat less than 0.8\n",
    "- volume greater than 45\n",
    "\n",
    "$$\n",
    " \\text{Volume} = f(x,y,z) = x \\cdot y \\cdot z\n",
    "$$\n",
    "\n",
    "What price per carat can they expect for their batch? Investigate using historical PAntwerpen prices\n",
    "  \n",
    "\n",
    "[Antwerpen](https://en.wikipedia.org/wiki/Antwerp_diamond_district)\n",
    "\n",
    "[dataset info](https://ggplot2.tidyverse.org/reference/diamonds.html)\n",
    "\n",
    "![](https://clubofmozambique.com/wp-content/uploads/2018/11/dd.jpg)\n"
   ]
  },
  {
   "cell_type": "markdown",
   "metadata": {},
   "source": [
    "![](http://www.canadadiamonds.com/canadian_diamonds_images/gia_clarity_scale.gif)"
   ]
  },
  {
   "cell_type": "code",
   "execution_count": null,
   "metadata": {},
   "outputs": [],
   "source": [
    "diamond_batch <- diamonds %>% \n",
    "    mutate(volume = z*y*x) %>% \n",
    "    mutate(price_per_carat = price/carat) %>% \n",
    "    filter(color==\"D\") %>% \n",
    "    filter(clarity%in% c(\"VVS2\",\"VVS1\",\"IF\")) %>% \n",
    "    filter(carat<.8) %>% \n",
    "    filter(volume>45)\n",
    "\n",
    "diamond_batch %>% summarise(mean_price = mean(price),\n",
    "                            mean_price_pr_carat = mean(price_per_carat))\n"
   ]
  }
 ],
 "metadata": {
  "kernelspec": {
   "display_name": "Python 3",
   "language": "python",
   "name": "python3"
  },
  "language_info": {
   "codemirror_mode": {
    "name": "ipython",
    "version": 3
   },
   "file_extension": ".py",
   "mimetype": "text/x-python",
   "name": "python",
   "nbconvert_exporter": "python",
   "pygments_lexer": "ipython3",
   "version": "3.6.2"
  }
 },
 "nbformat": 4,
 "nbformat_minor": 2
}
